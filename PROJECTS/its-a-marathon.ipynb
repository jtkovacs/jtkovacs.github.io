{
 "cells": [
  {
   "cell_type": "markdown",
   "metadata": {},
   "source": [
    "# What's this\n",
    "\n",
    "It's winter break after my first quarter of grad school; I'm trying out new workflows and tools in anticipation that my grad studies will put unbearable strain on existing ones. A question came to mind, and I thought I would answer it in a way that involved testing my new setup: work in a Jupyter notebook, push to GitHub, render with nbviewer and link from my website. Therefore:\n",
    "<br/>\n",
    "<br/>\n",
    "<br/>\n",
    "## How much effort should I put into studying?\n",
    "\n",
    "Figures that come to mind: \n",
    "- Long ago I read Malcolm Gladwell's _Outliers_, where he claimed that expertise comes from [10,000 hours of practice](http://gladwell.com/outliers/the-10000-hour-rule/) \n",
    "- Josh Kaufman claims that [20 hours is enough](https://first20hours.com/) to get a good sturdy foothold in a topic\n",
    "- [\"New Study Destroys Malcolm Gladwell's 10,000 Hour Rule\"](http://www.businessinsider.com/new-study-destroys-malcolm-gladwells-10000-rule-2014-7), mostly by noting that \"deliberate practice\" (a technical term, meaning practice at the limit of one's skills) only accounts for some fraction of success in _some_ domains; the ones that are highly stable, like music and video gaming. \"For scientists, the important question now is, what else matters?\" \n",
    "\n",
    "I don't have an academic motive for posing this question, just a practical one, a minimization problem. For ego's sake, I have to say that I'm asking this question because, as an undergraduate, I decimated my health from overworking and I need to bring my life back into balance. Here's the way I usually put it to myself: __It's a marathon, not a race.__\n",
    "<br/>\n",
    "<br/>"
   ]
  },
  {
   "cell_type": "markdown",
   "metadata": {},
   "source": [
    "## How much time is available for studying?"
   ]
  },
  {
   "cell_type": "code",
   "execution_count": 12,
   "metadata": {
    "collapsed": false
   },
   "outputs": [
    {
     "name": "stdout",
     "output_type": "stream",
     "text": [
      "\n",
      "3505 hours per year\n",
      "9.60 hours per day\n"
     ]
    }
   ],
   "source": [
    "hours_per_year = 8760\n",
    "\n",
    "sleep_per_day = 9\n",
    "# Amazfit says I actually average about 7 hours, but then, Amazfit doesn't TRACK MIDDAY NAPS\n",
    "\n",
    "food_per_day = 2\n",
    "# Trader Joe's enables this microwave-based lifestyle\n",
    "\n",
    "indulging_cat_daily = 2\n",
    "# https://www.facebook.com/jacobtkovacs/media_set?set=a.977363712349153.1073741833.100002266008928&type=1&l=b015eb34fa\n",
    "\n",
    "school_per_week = 15\n",
    "# classroom plus commute time\n",
    "\n",
    "tasks_per_year = (sleep_per_day + food_per_day + indulging_cat_daily)*365 + school_per_week*34\n",
    "# academic quarter system\n",
    "\n",
    "max_possible = hours_per_year - tasks_per_year\n",
    "\n",
    "print(\"\\n{} hours per year\".format(max_possible))\n",
    "print(\"{:02.2f} hours per day\".format(max_possible/365))\n",
    "# https://pyformat.info/"
   ]
  },
  {
   "cell_type": "markdown",
   "metadata": {},
   "source": [
    "# HAHA NO!!!!!!!!!!!!!!!!!!!!\n",
    "<br/>\n",
    "<br/>\n",
    "<br/>\n",
    "<br/>\n",
    "#### But let's pretend I did work that much; how far would it take me in the next two years?"
   ]
  },
  {
   "cell_type": "code",
   "execution_count": 21,
   "metadata": {
    "collapsed": false
   },
   "outputs": [
    {
     "name": "stdout",
     "output_type": "stream",
     "text": [
      "\n",
      "7000 hours = distilled into a being of pure knowledge and astonishing expertise\n"
     ]
    }
   ],
   "source": [
    "imaginary_world = int(round(9.6*365*2,-2))\n",
    "# round by 100s so as not to be falsely precise ...\n",
    "# http://stackoverflow.com/questions/2742784/python-how-to-round-123-to-100-instead-of-100-0\n",
    "\n",
    "print(\"\\n{} hours = distilled into a being of pure knowledge and astonishing expertise\".format(imaginary_world))"
   ]
  },
  {
   "cell_type": "markdown",
   "metadata": {},
   "source": [
    "##### Let's return to the world I'd rather inhabit. \n",
    "\n",
    "I think I could muster 2 focused hours a day, but not in those units. Whether or not I _should_, I'd probably work it in streaks---maybe seven hours twice a week. I'm probably already working at that pace. __How far will it take me in two years?__"
   ]
  },
  {
   "cell_type": "code",
   "execution_count": 27,
   "metadata": {
    "collapsed": false
   },
   "outputs": [
    {
     "name": "stdout",
     "output_type": "stream",
     "text": [
      "\n",
      "1456 hours = no idea how to evaluate this number\n"
     ]
    }
   ],
   "source": [
    "possible_world = 14*52*2\n",
    "print(\"\\n{} hours = no idea how to evaluate this number\".format(possible_world))"
   ]
  },
  {
   "cell_type": "markdown",
   "metadata": {},
   "source": [
    "<br/>\n",
    "<br/>\n",
    "Of course __time__ is only one dimension of effort. Another dimension is __concentration__. I've been finding that, for homework at least, I focus better when I decide how much time a task deserves, then set a timer and work in 20 minute, output-oriented increments until I hit the cap. I'm going to try to generalize this strategy to larger extracurricular projects."
   ]
  }
 ],
 "metadata": {
  "kernelspec": {
   "display_name": "Python 3.5",
   "language": "python",
   "name": "python3.5"
  },
  "language_info": {
   "codemirror_mode": {
    "name": "ipython",
    "version": 3
   },
   "file_extension": ".py",
   "mimetype": "text/x-python",
   "name": "python",
   "nbconvert_exporter": "python",
   "pygments_lexer": "ipython3",
   "version": "3.5.2"
  }
 },
 "nbformat": 4,
 "nbformat_minor": 0
}
