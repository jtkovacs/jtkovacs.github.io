{
 "cells": [
  {
   "cell_type": "markdown",
   "metadata": {},
   "source": [
    "# Purpose\n",
    "\n",
    "A Python script to prepend a hyperlinked table of contents to a generic Markdown file, based on that file's header hierarchy. \n",
    "\n",
    "The workflow:\n",
    "\n",
    "- Add TOC to Markdown file\n",
    "- Create HTML from Markdown via pandoc\n",
    "- Add anchors and stylesheet to HTML document\n",
    "- Push to GitHub??\n",
    "\n",
    "\n",
    "# Load libraries"
   ]
  },
  {
   "cell_type": "code",
   "execution_count": 1,
   "metadata": {
    "collapsed": true
   },
   "outputs": [],
   "source": [
    "from bs4 import BeautifulSoup\n",
    "import fileinput\n",
    "import string\n",
    "import subprocess"
   ]
  },
  {
   "cell_type": "markdown",
   "metadata": {},
   "source": [
    "# Add TOC to Markdown file\n",
    "\n",
    "## Load Markdown file"
   ]
  },
  {
   "cell_type": "code",
   "execution_count": 2,
   "metadata": {
    "collapsed": false
   },
   "outputs": [],
   "source": [
    "fname = input(\"Filename: \")\n",
    "#fname = '/home/jtk/Site/REFS/Bash-basics.md'\n",
    "#fname = '/home/jtk/Site/REFS/metadata.md'\n",
    "#fname = '/home/jtk/Site/REFS/databases.md'\n",
    "fhand = open(fname, 'r')"
   ]
  },
  {
   "cell_type": "markdown",
   "metadata": {},
   "source": [
    "## Save lines that are either headers (wanted) or code sections (unwanted)"
   ]
  },
  {
   "cell_type": "code",
   "execution_count": 3,
   "metadata": {
    "collapsed": false
   },
   "outputs": [
    {
     "name": "stdout",
     "output_type": "stream",
     "text": [
      "['# Precursors to databases\\n', '# Database approach\\n', '## ANSI-SPARC architecture\\n', '# (Generations of) data models\\n', '## Object-based data models\\n', '## Record-based data models\\n', '### (1G) Hierarchical data model\\n', '### (1G) Graph data model \\n', '### (2G) Relational data model\\n', '## Physical data models\\n']\n"
     ]
    }
   ],
   "source": [
    "# extract headers\n",
    "headers_comments = list()\n",
    "for row in fhand:\n",
    "    if row.startswith(\"```\") or row.startswith('#'):\n",
    "        headers_comments.append(row)\n",
    "\n",
    "print(headers_comments)"
   ]
  },
  {
   "cell_type": "markdown",
   "metadata": {},
   "source": [
    "## Identify indices of code sections"
   ]
  },
  {
   "cell_type": "code",
   "execution_count": 4,
   "metadata": {
    "collapsed": false
   },
   "outputs": [
    {
     "name": "stdout",
     "output_type": "stream",
     "text": [
      "[]\n"
     ]
    }
   ],
   "source": [
    "comments_indices = list()\n",
    "\n",
    "# gets indices of ```\n",
    "for i in range(len(headers_comments)):\n",
    "    if headers_comments[i].startswith(\"```\"):\n",
    "        comments_indices.append(i)\n",
    "        \n",
    "print(comments_indices)"
   ]
  },
  {
   "cell_type": "code",
   "execution_count": 5,
   "metadata": {
    "collapsed": false
   },
   "outputs": [
    {
     "name": "stdout",
     "output_type": "stream",
     "text": [
      "[]\n"
     ]
    }
   ],
   "source": [
    "comment_ranges = list()\n",
    "end = len(comments_indices)\n",
    "\n",
    "# breaks ``` indices into pairs representing one code chunk\n",
    "for i in range(0,end,2):\n",
    "    comment_ranges.append([comments_indices[i],comments_indices[i+1]])\n",
    "\n",
    "print(comment_ranges)"
   ]
  },
  {
   "cell_type": "code",
   "execution_count": 6,
   "metadata": {
    "collapsed": false
   },
   "outputs": [
    {
     "name": "stdout",
     "output_type": "stream",
     "text": [
      "[]\n"
     ]
    }
   ],
   "source": [
    "ignore_me = list()\n",
    "\n",
    "# generates list of indexes to ignore\n",
    "for i in comment_ranges:\n",
    "    ignore_me.extend(list(range(i[0], i[1]+1, 1)))\n",
    "                     \n",
    "print(ignore_me)"
   ]
  },
  {
   "cell_type": "markdown",
   "metadata": {},
   "source": [
    "## Save only headers"
   ]
  },
  {
   "cell_type": "code",
   "execution_count": 7,
   "metadata": {
    "collapsed": false
   },
   "outputs": [
    {
     "name": "stdout",
     "output_type": "stream",
     "text": [
      "# Precursors to databases\n",
      "\n",
      "# Database approach\n",
      "\n",
      "## ANSI-SPARC architecture\n",
      "\n",
      "# (Generations of) data models\n",
      "\n",
      "## Object-based data models\n",
      "\n",
      "## Record-based data models\n",
      "\n",
      "### (1G) Hierarchical data model\n",
      "\n",
      "### (1G) Graph data model \n",
      "\n",
      "### (2G) Relational data model\n",
      "\n",
      "## Physical data models\n",
      "\n"
     ]
    }
   ],
   "source": [
    "headers = list()\n",
    "\n",
    "# drops comments and code markers\n",
    "for line in enumerate(headers_comments):\n",
    "    if line[0] not in ignore_me:\n",
    "        headers.append(line[1])\n",
    "        \n",
    "for h in headers:\n",
    "    print(h)"
   ]
  },
  {
   "cell_type": "markdown",
   "metadata": {},
   "source": [
    "## Construct TOC from headers"
   ]
  },
  {
   "cell_type": "code",
   "execution_count": 8,
   "metadata": {
    "collapsed": false
   },
   "outputs": [],
   "source": [
    "TOC = list()\n",
    "\n",
    "for h in headers:\n",
    "    \n",
    "    # I need this\n",
    "    hsplit = h.split(' ')\n",
    "    \n",
    "    # set the indentation\n",
    "    hlevel = len(hsplit[0])\n",
    "    if hlevel > 1:\n",
    "        space = \"\\t\"*(hlevel-1)\n",
    "    else:\n",
    "        space = \"\"\n",
    "    \n",
    "    # set the anchor name and link text\n",
    "    aname = \"-\".join(hsplit[1:])\n",
    "    aname = aname.lower()[:-1]\n",
    "    lname = \" \".join(hsplit[1:])\n",
    "    lname = lname[:-1]\n",
    "    \n",
    "    # construct (indented) bullet point\n",
    "    TOC.append(space+'- <a href=\"#'+aname+'\">'+lname+'</a>\\n')"
   ]
  },
  {
   "cell_type": "code",
   "execution_count": 9,
   "metadata": {
    "collapsed": false
   },
   "outputs": [
    {
     "name": "stdout",
     "output_type": "stream",
     "text": [
      "- <a href=\"#precursors-to-databases\">Precursors to databases</a>\n",
      "\n",
      "- <a href=\"#database-approach\">Database approach</a>\n",
      "\n",
      "\t- <a href=\"#ansi-sparc-architecture\">ANSI-SPARC architecture</a>\n",
      "\n",
      "- <a href=\"#(generations-of)-data-models\">(Generations of) data models</a>\n",
      "\n",
      "\t- <a href=\"#object-based-data-models\">Object-based data models</a>\n",
      "\n",
      "\t- <a href=\"#record-based-data-models\">Record-based data models</a>\n",
      "\n",
      "\t\t- <a href=\"#(1g)-hierarchical-data-model\">(1G) Hierarchical data model</a>\n",
      "\n",
      "\t\t- <a href=\"#(1g)-graph-data-model-\">(1G) Graph data model </a>\n",
      "\n",
      "\t\t- <a href=\"#(2g)-relational-data-model\">(2G) Relational data model</a>\n",
      "\n",
      "\t- <a href=\"#physical-data-models\">Physical data models</a>\n",
      "\n"
     ]
    }
   ],
   "source": [
    "for item in TOC:\n",
    "    print(item)"
   ]
  },
  {
   "cell_type": "markdown",
   "metadata": {},
   "source": [
    "## Prepend to file"
   ]
  },
  {
   "cell_type": "code",
   "execution_count": 10,
   "metadata": {
    "collapsed": false
   },
   "outputs": [],
   "source": [
    "#foname = \"TOC_\"+fname\n",
    "foname = fname[:-3]+\"1.md\"\n",
    "fout = open(foname, \"w\")\n",
    "fout.write()\n",
    "for row in TOC:\n",
    "    fout.write(row)\n",
    "\n",
    "fout.write(\"\\n\")\n",
    "    \n",
    "fhand = open(fname, 'r')\n",
    "for row in fhand:\n",
    "    fout.write(row)\n",
    "    \n",
    "fout.close()"
   ]
  },
  {
   "cell_type": "markdown",
   "metadata": {
    "collapsed": true
   },
   "source": [
    "# Create HTML from MD using pandoc"
   ]
  },
  {
   "cell_type": "code",
   "execution_count": 11,
   "metadata": {
    "collapsed": false
   },
   "outputs": [
    {
     "data": {
      "text/plain": [
       "CompletedProcess(args=['pandoc', '/home/jtk/Site/REFS/databases1.md', '-f', 'markdown', '-t', 'html', '-s', '-o', '/home/jtk/Site/REFS/databases1.html'], returncode=0)"
      ]
     },
     "execution_count": 11,
     "metadata": {},
     "output_type": "execute_result"
    }
   ],
   "source": [
    "# https://stackoverflow.com/questions/26236126/how-to-run-bash-command-inside-python-script\n",
    "html_out = foname[:-3]+'.html'\n",
    "subprocess.run(['pandoc',foname, '-f', 'markdown', '-t', 'html', '-s', '-o', html_out])"
   ]
  },
  {
   "cell_type": "markdown",
   "metadata": {},
   "source": [
    "# Add anchors and stylesheet to HTML\n",
    "\n",
    "## Create BeautifulSoup object"
   ]
  },
  {
   "cell_type": "code",
   "execution_count": 12,
   "metadata": {
    "collapsed": false
   },
   "outputs": [],
   "source": [
    "fhand = open(html_out, 'r')\n",
    "my_soup = BeautifulSoup(fhand, \"html.parser\")\n",
    "#print(my_soup.prettify())"
   ]
  },
  {
   "cell_type": "markdown",
   "metadata": {},
   "source": [
    "## Make every header an anchor"
   ]
  },
  {
   "cell_type": "code",
   "execution_count": 13,
   "metadata": {
    "collapsed": false
   },
   "outputs": [],
   "source": [
    "headers = my_soup.find_all([\"h1\",\"h2\",\"h3\",\"h4\",\"h5\",\"h6\"])\n",
    "for h in headers:\n",
    "    h.string.wrap(my_soup.new_tag(\"a\"))\n",
    "    del h['id'] \n",
    "    h.a['name'] = \"-\".join(h.get_text().lower().split(\" \"))"
   ]
  },
  {
   "cell_type": "code",
   "execution_count": 14,
   "metadata": {
    "collapsed": false
   },
   "outputs": [],
   "source": [
    "#print(my_soup.prettify())"
   ]
  },
  {
   "cell_type": "markdown",
   "metadata": {},
   "source": [
    "## Add CSS stylesheet to &lt;head&gt;"
   ]
  },
  {
   "cell_type": "code",
   "execution_count": 15,
   "metadata": {
    "collapsed": false
   },
   "outputs": [
    {
     "data": {
      "text/plain": [
       "<style type=\"text/css\">code{white-space: pre;}</style>"
      ]
     },
     "execution_count": 15,
     "metadata": {},
     "output_type": "execute_result"
    }
   ],
   "source": [
    "link = my_soup.new_tag(\"link\")\n",
    "link[\"rel\"] = \"stylesheet\"\n",
    "link[\"type\"] = \"text/css\"\n",
    "link['href'] = \"refs.css\"\n",
    "my_soup.head.style.replace_with(link)"
   ]
  },
  {
   "cell_type": "code",
   "execution_count": 16,
   "metadata": {
    "collapsed": false
   },
   "outputs": [],
   "source": [
    "#print(my_soup.prettify())"
   ]
  },
  {
   "cell_type": "markdown",
   "metadata": {},
   "source": [
    "# Write out"
   ]
  },
  {
   "cell_type": "code",
   "execution_count": 17,
   "metadata": {
    "collapsed": false
   },
   "outputs": [
    {
     "data": {
      "text/plain": [
       "8181"
      ]
     },
     "execution_count": 17,
     "metadata": {},
     "output_type": "execute_result"
    }
   ],
   "source": [
    "fhand = open(html_out, 'w')\n",
    "fhand.write(my_soup.prettify())"
   ]
  },
  {
   "cell_type": "code",
   "execution_count": 18,
   "metadata": {
    "collapsed": false
   },
   "outputs": [
    {
     "data": {
      "text/plain": [
       "8181"
      ]
     },
     "execution_count": 18,
     "metadata": {},
     "output_type": "execute_result"
    }
   ],
   "source": [
    "# not sure why I need this twice????\n",
    "\n",
    "fhand = open(html_out, 'w')\n",
    "fhand.write(my_soup.prettify())"
   ]
  },
  {
   "cell_type": "code",
   "execution_count": null,
   "metadata": {
    "collapsed": true
   },
   "outputs": [],
   "source": []
  },
  {
   "cell_type": "code",
   "execution_count": null,
   "metadata": {
    "collapsed": true
   },
   "outputs": [],
   "source": []
  }
 ],
 "metadata": {
  "kernelspec": {
   "display_name": "Python 3",
   "language": "python",
   "name": "python3"
  },
  "language_info": {
   "codemirror_mode": {
    "name": "ipython",
    "version": 3
   },
   "file_extension": ".py",
   "mimetype": "text/x-python",
   "name": "python",
   "nbconvert_exporter": "python",
   "pygments_lexer": "ipython3",
   "version": "3.6.0"
  }
 },
 "nbformat": 4,
 "nbformat_minor": 2
}
